{
 "cells": [
  {
   "cell_type": "markdown",
   "id": "6d0d5ae1",
   "metadata": {},
   "source": [
    "#  What is a database? Differentiate between SQL and NoSQL databases.\n"
   ]
  },
  {
   "cell_type": "markdown",
   "id": "4cfc74fe",
   "metadata": {},
   "source": [
    "Database is the collection of organised data that may be structured or unstructured. The database's primary goal is \n",
    "to store huge amount of data.\n",
    "                            SQL databases are vertically scalable while NOSQL databases are horijontally scalable. SQL databases are table base while NOSQL databases are based on documents, key-value, graph. SQL database is better for multirow transactions while NOSQL data base is better for unstructured data like documents or json. "
   ]
  },
  {
   "cell_type": "markdown",
   "id": "6c63d580",
   "metadata": {},
   "source": [
    "#  What is DDL? Explain why CREATE, DROP, ALTER, and TRUNCATE are used with an example."
   ]
  },
  {
   "cell_type": "markdown",
   "id": "3407a37e",
   "metadata": {},
   "source": [
    "DDL stands for Data Defnetion Language. It is the subset of SQL commands that is used to create, drop,alter and truncate\n",
    "the database structure.\n"
   ]
  },
  {
   "cell_type": "code",
   "execution_count": 1,
   "id": "2579e2b0",
   "metadata": {},
   "outputs": [],
   "source": [
    "# CREATE: used to create the database or its object like table, index, function, views, store procedure, and triggers.\n",
    "#     Create table Employee\n",
    "#     (EmployeeId int Notnull,\n",
    "#      EmployeeName varchar(50),\n",
    "#      Email varchar(50)\n",
    "#     );"
   ]
  },
  {
   "cell_type": "code",
   "execution_count": 2,
   "id": "4244351f",
   "metadata": {},
   "outputs": [],
   "source": [
    "# DROP: This command is used to remove an existing table along with its structure from the Database.\n",
    "#     DROP Table Employee;"
   ]
  },
  {
   "cell_type": "code",
   "execution_count": 3,
   "id": "33dea2b0",
   "metadata": {},
   "outputs": [],
   "source": [
    "# ALTER: This command is used to add, delete or change columns in the existing table.\n",
    "#     ALTER TABLE Employee\n",
    "#     ADD Age int;"
   ]
  },
  {
   "cell_type": "code",
   "execution_count": 4,
   "id": "e6aab4d6",
   "metadata": {},
   "outputs": [],
   "source": [
    "# TRUNCATE: This command is used to remove all rows from the table, but the structure of the table still exists.\n",
    "#     TRUNCATE TABLE Employee;"
   ]
  },
  {
   "cell_type": "markdown",
   "id": "94ab8190",
   "metadata": {},
   "source": [
    "# What is DML? Explain INSERT, UPDATE, and DELETE with an example"
   ]
  },
  {
   "cell_type": "markdown",
   "id": "c8e0cad8",
   "metadata": {},
   "source": [
    "DML is a language that is used to manipulate data stored in the database."
   ]
  },
  {
   "cell_type": "code",
   "execution_count": 5,
   "id": "b4eaf007",
   "metadata": {},
   "outputs": [],
   "source": [
    "# INSERT: INSERT is a DML command in SQL that is used to insert new records into database tables.\n",
    "#     Insert into Employee(EmployeeID,EmployeeName,Email,Age) values(101,'Mayank','mayank@gmail.com',29),\n",
    "#     (102,'Gaurabh','gaurabh@gmail.com',28);"
   ]
  },
  {
   "cell_type": "code",
   "execution_count": 6,
   "id": "54a88c76",
   "metadata": {},
   "outputs": [],
   "source": [
    "# UPDATE: The UPDATE command can update single or multiple records according to WHERE conditions.\n",
    "#     UPDATE Employee\n",
    "# SET Name= 'Vinay'\n",
    "# WHERE Age= 29;\n",
    "\n"
   ]
  },
  {
   "cell_type": "code",
   "execution_count": 7,
   "id": "d3532993",
   "metadata": {},
   "outputs": [],
   "source": [
    "# DELETE: This command is used to delete single or multiple records from the tables based on the condition given in the \n",
    "# WHERE clause.\n",
    "# DELETE FROM Employee WHERE Age = 28;\n"
   ]
  },
  {
   "cell_type": "markdown",
   "id": "7e8b257e",
   "metadata": {},
   "source": [
    "#  What is DQL? Explain SELECT with an example."
   ]
  },
  {
   "cell_type": "code",
   "execution_count": 1,
   "id": "c6d362d7",
   "metadata": {},
   "outputs": [],
   "source": [
    "# DQL commands are used for fetching data from a relational database.\n",
    "# Select is DQL command which is used to fetch the desired query from a table and where is used to filter databases.\n",
    "# eg. select EmployeeName, Email from Employee where age= 29;"
   ]
  },
  {
   "cell_type": "markdown",
   "id": "13afd630",
   "metadata": {},
   "source": [
    "# Explain Primary Key and Foreign Key.\n"
   ]
  },
  {
   "cell_type": "code",
   "execution_count": 2,
   "id": "c677a79f",
   "metadata": {},
   "outputs": [],
   "source": [
    "# Primary Key: It is a unique key in the table, it can not be null and table allows only one primary key.\n",
    "# Foreign Key: It is used to generally build relationship between tables"
   ]
  },
  {
   "cell_type": "markdown",
   "id": "45f1b9de",
   "metadata": {},
   "source": [
    "# Write a python code to connect MySQL to python. Explain the cursor() and execute() method."
   ]
  },
  {
   "cell_type": "code",
   "execution_count": 1,
   "id": "b89beee4",
   "metadata": {},
   "outputs": [],
   "source": [
    "# import mysql.connector\n",
    "# mydb = mysql.connector.connect(\n",
    "#   host=\"localhost\"\n",
    "#   user= \"xyz\"\n",
    "#   password=\"abcda\"\n",
    "# )\n",
    "# mycursor= mydb.cursor()\n",
    "# mycursor.execute(\"show database\")\n",
    "\n",
    "\n",
    "# cursor(): A cursor is an object which helps to execute the query and fetch the records from the database.\n",
    "# execute(): The Execute method executes a specified query, SQL statement."
   ]
  },
  {
   "cell_type": "markdown",
   "id": "1a46d388",
   "metadata": {},
   "source": [
    "# Give the order of execution of SQL clauses in an SQL query."
   ]
  },
  {
   "cell_type": "code",
   "execution_count": 2,
   "id": "1a4b1591",
   "metadata": {},
   "outputs": [],
   "source": [
    "#from > where > group by > having > select > order by >limit"
   ]
  },
  {
   "cell_type": "code",
   "execution_count": null,
   "id": "cebfc386",
   "metadata": {},
   "outputs": [],
   "source": []
  }
 ],
 "metadata": {
  "kernelspec": {
   "display_name": "Python 3 (ipykernel)",
   "language": "python",
   "name": "python3"
  },
  "language_info": {
   "codemirror_mode": {
    "name": "ipython",
    "version": 3
   },
   "file_extension": ".py",
   "mimetype": "text/x-python",
   "name": "python",
   "nbconvert_exporter": "python",
   "pygments_lexer": "ipython3",
   "version": "3.10.6"
  }
 },
 "nbformat": 4,
 "nbformat_minor": 5
}
